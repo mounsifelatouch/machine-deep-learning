{
  "nbformat": 4,
  "nbformat_minor": 0,
  "metadata": {
    "colab": {
      "provenance": [],
      "authorship_tag": "ABX9TyPr/hdGHCPC+99ZQrqdejUz",
      "include_colab_link": true
    },
    "kernelspec": {
      "name": "python3",
      "display_name": "Python 3"
    },
    "language_info": {
      "name": "python"
    }
  },
  "cells": [
    {
      "cell_type": "markdown",
      "metadata": {
        "id": "view-in-github",
        "colab_type": "text"
      },
      "source": [
        "<a href=\"https://colab.research.google.com/github/mounsifelatouch/machine-deep-learning/blob/master/Task2/UnemploymentAnalysisWithPython.ipynb\" target=\"_parent\"><img src=\"https://colab.research.google.com/assets/colab-badge.svg\" alt=\"Open In Colab\"/></a>"
      ]
    },
    {
      "cell_type": "markdown",
      "source": [
        "# Oasis Infobyte Internship (15 October - 15 November, 2023)\n",
        "## Data Science Internship\n",
        "### <u>`Task 2`</u> : `UNEMPLOYMENT ANALYSIS WITHWE PYTHON`\n",
        "#### `MOUNSIF EL ATOUCH`"
      ],
      "metadata": {
        "id": "lTIFcby0wcJs"
      }
    },
    {
      "cell_type": "markdown",
      "source": [
        "# Needed packages"
      ],
      "metadata": {
        "id": "xVK9LZ_yb53u"
      }
    },
    {
      "cell_type": "code",
      "source": [
        "import pandas as pd                 # For data manipulation and analysis\n",
        "import numpy as np                  # For numerical computations and handling arrays\n",
        "import matplotlib.pyplot as plt     # For data visualization\n",
        "import seaborn as sns               # For enhanced data visualization\n",
        "from sklearn.model_selection import train_test_split      # For dataset splitting\n",
        "import warnings\n",
        "warnings.filterwarnings(\"ignore\")                         # Disable warnings\n",
        "%matplotlib inline"
      ],
      "metadata": {
        "id": "u8prTKymeZWT"
      },
      "execution_count": 4,
      "outputs": []
    },
    {
      "cell_type": "markdown",
      "source": [
        "# Load the dataset"
      ],
      "metadata": {
        "id": "dFPoHSLkibLm"
      }
    },
    {
      "cell_type": "code",
      "source": [
        "# Download the dataset\n",
        "! wget https://github.com/mounsifelatouch/OIBSIP/edit/master/Task2/UnemploymentInIndia.csv"
      ],
      "metadata": {
        "colab": {
          "base_uri": "https://localhost:8080/"
        },
        "id": "oZDzyrYDff1_",
        "outputId": "16768163-5f55-4263-b3b9-2d7fed301154"
      },
      "execution_count": 7,
      "outputs": [
        {
          "output_type": "stream",
          "name": "stdout",
          "text": [
            "--2023-10-17 13:14:05--  https://github.com/mounsifelatouch/OIBSIP/edit/master/Task2/UnemploymentInIndia.csv\n",
            "Resolving github.com (github.com)... 20.27.177.113\n",
            "Connecting to github.com (github.com)|20.27.177.113|:443... connected.\n",
            "HTTP request sent, awaiting response... 302 Found\n",
            "Location: https://github.com/login?return_to=https%3A%2F%2Fgithub.com%2Fmounsifelatouch%2FOIBSIP%2Fedit%2Fmaster%2FTask2%2FUnemploymentInIndia.csv [following]\n",
            "--2023-10-17 13:14:06--  https://github.com/login?return_to=https%3A%2F%2Fgithub.com%2Fmounsifelatouch%2FOIBSIP%2Fedit%2Fmaster%2FTask2%2FUnemploymentInIndia.csv\n",
            "Reusing existing connection to github.com:443.\n",
            "HTTP request sent, awaiting response... 200 OK\n",
            "Length: unspecified [text/html]\n",
            "Saving to: ‘UnemploymentInIndia.csv’\n",
            "\n",
            "UnemploymentInIndia     [ <=>                ]  34.11K  --.-KB/s    in 0.05s   \n",
            "\n",
            "2023-10-17 13:14:06 (703 KB/s) - ‘UnemploymentInIndia.csv’ saved [34931]\n",
            "\n"
          ]
        }
      ]
    }
  ]
}