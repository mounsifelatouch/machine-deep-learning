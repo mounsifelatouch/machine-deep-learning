{
 "cells": [
  {
   "cell_type": "code",
   "execution_count": 10,
   "id": "5eba89b0",
   "metadata": {},
   "outputs": [],
   "source": [
    "#Importing required libraries\n",
    "import numpy as np"
   ]
  },
  {
   "cell_type": "code",
   "execution_count": 16,
   "id": "a5ba7fe3",
   "metadata": {},
   "outputs": [],
   "source": [
    "#Generate a dummy dataset.\n",
    "X = np.random.randint(20, 50, 100).reshape(20, 5)"
   ]
  },
  {
   "cell_type": "code",
   "execution_count": 19,
   "id": "1c8e83cf",
   "metadata": {},
   "outputs": [
    {
     "data": {
      "text/plain": [
       "(20, 5)"
      ]
     },
     "execution_count": 19,
     "metadata": {},
     "output_type": "execute_result"
    }
   ],
   "source": [
    "X.shape"
   ]
  },
  {
   "cell_type": "code",
   "execution_count": 21,
   "id": "43ddf29f",
   "metadata": {},
   "outputs": [],
   "source": [
    "#Mean centering the data\n",
    "X_mean = (X - np.mean(X, axis=0))"
   ]
  },
  {
   "cell_type": "code",
   "execution_count": 22,
   "id": "ea2f50de",
   "metadata": {},
   "outputs": [],
   "source": [
    "#Calculating the covariance matrix of the mean-centered\n",
    "cov_mat = np.cov(X_mean, rowvar=False)"
   ]
  },
  {
   "cell_type": "code",
   "execution_count": 23,
   "id": "93aded1b",
   "metadata": {},
   "outputs": [],
   "source": [
    "#Calculating Eigenvalues and Eigenvectors of the covariance matrix\n",
    "eigen_values, eigen_vectors = np.linalg.eigh(cov_mat)"
   ]
  },
  {
   "cell_type": "code",
   "execution_count": 24,
   "id": "b4aa2500",
   "metadata": {},
   "outputs": [],
   "source": [
    "#Sort the eigenvalues in descending order\n",
    "##np.argsort can only provide lowest to highest; use [::-1] to reverse the list\n",
    "index = np.argsort(eigen_values)[::-1]\n",
    "sorted_eigenvalues = eigen_values[index]\n",
    "\n",
    "#Similarity sort the eigenvectors\n",
    "sorted_eigenvectors = eigen_vectors[:, index]"
   ]
  },
  {
   "cell_type": "code",
   "execution_count": 25,
   "id": "ce969775",
   "metadata": {},
   "outputs": [],
   "source": [
    "#Select the first n eigenvectors, n (=2) is desired dimension\n",
    "#of our final reduced data\n",
    "n_components = 2\n",
    "eigenvector_subset = sorted_eigenvectors[:, 0:n_components]"
   ]
  },
  {
   "cell_type": "code",
   "execution_count": 26,
   "id": "bcc11ba9",
   "metadata": {},
   "outputs": [],
   "source": [
    "#Transform the data\n",
    "X_reduced = np.dot(eigenvector_subset.transpose(), X_mean.transpose())"
   ]
  },
  {
   "cell_type": "code",
   "execution_count": 28,
   "id": "892d9b4a",
   "metadata": {},
   "outputs": [
    {
     "name": "stdout",
     "output_type": "stream",
     "text": [
      "[32.63221197 26.28662906 23.43323663 10.1582818   7.48964054]\n",
      "82.35207765578987\n"
     ]
    }
   ],
   "source": [
    "#Use sorted_eigenvalues to ensure the explained variances correspond to the eigenvectors\n",
    "explained_variance = (sorted_eigenvalues / np.sum(sorted_eigenvalues))*100\n",
    "print(explained_variance)\n",
    "total_explained_variance = sum(explained_variance[:3])\n",
    "print(total_explained_variance)"
   ]
  }
 ],
 "metadata": {
  "kernelspec": {
   "display_name": "base",
   "language": "python",
   "name": "python3"
  },
  "language_info": {
   "codemirror_mode": {
    "name": "ipython",
    "version": 3
   },
   "file_extension": ".py",
   "mimetype": "text/x-python",
   "name": "python",
   "nbconvert_exporter": "python",
   "pygments_lexer": "ipython3",
   "version": "3.9.13 (main, Aug 25 2022, 23:51:50) [MSC v.1916 64 bit (AMD64)]"
  },
  "vscode": {
   "interpreter": {
    "hash": "1cca9558bc5ad879ec93cc030b157d75f18267527c60932cecaace349eef54dd"
   }
  }
 },
 "nbformat": 4,
 "nbformat_minor": 5
}
