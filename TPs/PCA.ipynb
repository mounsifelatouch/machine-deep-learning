{
 "cells": [
  {
   "cell_type": "code",
   "execution_count": 1,
   "id": "112dc58e",
   "metadata": {},
   "outputs": [],
   "source": [
    "import pandas as pd\n",
    "import numpy as np\n",
    "import matplotlib.pyplot as plt"
   ]
  },
  {
   "cell_type": "code",
   "execution_count": 5,
   "id": "b45b6667",
   "metadata": {},
   "outputs": [],
   "source": [
    "data = pd.read_csv('Ozone.csv')"
   ]
  },
  {
   "cell_type": "code",
   "execution_count": 4,
   "id": "0ee8884c",
   "metadata": {},
   "outputs": [
    {
     "data": {
      "text/plain": [
       "(2534, 74)"
      ]
     },
     "execution_count": 4,
     "metadata": {},
     "output_type": "execute_result"
    }
   ],
   "source": [
    "data.shape"
   ]
  },
  {
   "cell_type": "code",
   "execution_count": 6,
   "id": "072b60b1",
   "metadata": {
    "scrolled": true
   },
   "outputs": [],
   "source": [
    "#We only need the input variables and numerical variables\n",
    "#so we will drop the output ‘Class’ and the categorical variable ‘id’.\n",
    "data.drop(columns=['id', 'Class'], inplace=True)"
   ]
  },
  {
   "cell_type": "code",
   "execution_count": 6,
   "id": "910482d0",
   "metadata": {},
   "outputs": [
    {
     "data": {
      "text/plain": [
       "(2534, 72)"
      ]
     },
     "execution_count": 6,
     "metadata": {},
     "output_type": "execute_result"
    }
   ],
   "source": [
    "data.shape"
   ]
  },
  {
   "cell_type": "code",
   "execution_count": 8,
   "id": "c3769dec",
   "metadata": {},
   "outputs": [
    {
     "data": {
      "text/html": [
       "<div>\n",
       "<style scoped>\n",
       "    .dataframe tbody tr th:only-of-type {\n",
       "        vertical-align: middle;\n",
       "    }\n",
       "\n",
       "    .dataframe tbody tr th {\n",
       "        vertical-align: top;\n",
       "    }\n",
       "\n",
       "    .dataframe thead th {\n",
       "        text-align: right;\n",
       "    }\n",
       "</style>\n",
       "<table border=\"1\" class=\"dataframe\">\n",
       "  <thead>\n",
       "    <tr style=\"text-align: right;\">\n",
       "      <th></th>\n",
       "      <th>V1</th>\n",
       "      <th>V2</th>\n",
       "      <th>V3</th>\n",
       "      <th>V4</th>\n",
       "      <th>V5</th>\n",
       "      <th>V6</th>\n",
       "      <th>V7</th>\n",
       "      <th>V8</th>\n",
       "      <th>V9</th>\n",
       "      <th>V10</th>\n",
       "      <th>...</th>\n",
       "      <th>V63</th>\n",
       "      <th>V64</th>\n",
       "      <th>V65</th>\n",
       "      <th>V66</th>\n",
       "      <th>V67</th>\n",
       "      <th>V68</th>\n",
       "      <th>V69</th>\n",
       "      <th>V70</th>\n",
       "      <th>V71</th>\n",
       "      <th>V72</th>\n",
       "    </tr>\n",
       "  </thead>\n",
       "  <tbody>\n",
       "    <tr>\n",
       "      <th>0</th>\n",
       "      <td>-0.703472</td>\n",
       "      <td>0.179373</td>\n",
       "      <td>0.733142</td>\n",
       "      <td>0.505957</td>\n",
       "      <td>0.423468</td>\n",
       "      <td>0.505817</td>\n",
       "      <td>-0.126209</td>\n",
       "      <td>-0.317853</td>\n",
       "      <td>-0.573011</td>\n",
       "      <td>-0.476334</td>\n",
       "      <td>...</td>\n",
       "      <td>-1.315377e+00</td>\n",
       "      <td>-0.637188</td>\n",
       "      <td>8.740067e-02</td>\n",
       "      <td>-3.393908e-01</td>\n",
       "      <td>-3.077883e-01</td>\n",
       "      <td>-1.122120e+00</td>\n",
       "      <td>-1.780258e+00</td>\n",
       "      <td>3.224584e+00</td>\n",
       "      <td>-1.582173e+00</td>\n",
       "      <td>-0.282442</td>\n",
       "    </tr>\n",
       "    <tr>\n",
       "      <th>1</th>\n",
       "      <td>0.971104</td>\n",
       "      <td>1.354772</td>\n",
       "      <td>1.505395</td>\n",
       "      <td>1.035205</td>\n",
       "      <td>1.576666</td>\n",
       "      <td>1.503695</td>\n",
       "      <td>1.155144</td>\n",
       "      <td>0.689381</td>\n",
       "      <td>0.503003</td>\n",
       "      <td>0.480320</td>\n",
       "      <td>...</td>\n",
       "      <td>-1.051700e+00</td>\n",
       "      <td>0.721899</td>\n",
       "      <td>-1.624465e-01</td>\n",
       "      <td>4.273963e-01</td>\n",
       "      <td>-1.785807e-01</td>\n",
       "      <td>1.756277e-01</td>\n",
       "      <td>-7.662740e-01</td>\n",
       "      <td>2.154919e+00</td>\n",
       "      <td>-1.582173e+00</td>\n",
       "      <td>-0.282442</td>\n",
       "    </tr>\n",
       "    <tr>\n",
       "      <th>2</th>\n",
       "      <td>1.054833</td>\n",
       "      <td>1.018944</td>\n",
       "      <td>0.904754</td>\n",
       "      <td>0.505957</td>\n",
       "      <td>0.600883</td>\n",
       "      <td>0.868682</td>\n",
       "      <td>0.789043</td>\n",
       "      <td>0.597815</td>\n",
       "      <td>-0.304007</td>\n",
       "      <td>-0.302397</td>\n",
       "      <td>...</td>\n",
       "      <td>-1.420848e+00</td>\n",
       "      <td>1.216113</td>\n",
       "      <td>-3.213405e-01</td>\n",
       "      <td>1.273702e+00</td>\n",
       "      <td>-3.723921e-01</td>\n",
       "      <td>3.666920e-01</td>\n",
       "      <td>3.573304e-01</td>\n",
       "      <td>1.376981e+00</td>\n",
       "      <td>-1.149728e+00</td>\n",
       "      <td>-0.282442</td>\n",
       "    </tr>\n",
       "    <tr>\n",
       "      <th>3</th>\n",
       "      <td>2.561951</td>\n",
       "      <td>1.858515</td>\n",
       "      <td>1.848619</td>\n",
       "      <td>2.005493</td>\n",
       "      <td>1.221836</td>\n",
       "      <td>1.412979</td>\n",
       "      <td>1.063618</td>\n",
       "      <td>0.414681</td>\n",
       "      <td>-0.124672</td>\n",
       "      <td>0.219415</td>\n",
       "      <td>...</td>\n",
       "      <td>-1.658157e+00</td>\n",
       "      <td>0.763084</td>\n",
       "      <td>-1.251886e-01</td>\n",
       "      <td>1.378780e+00</td>\n",
       "      <td>-5.662034e-01</td>\n",
       "      <td>1.024251e+00</td>\n",
       "      <td>1.307370e+00</td>\n",
       "      <td>5.990427e-01</td>\n",
       "      <td>-1.149728e+00</td>\n",
       "      <td>1.296692</td>\n",
       "    </tr>\n",
       "    <tr>\n",
       "      <th>4</th>\n",
       "      <td>0.803647</td>\n",
       "      <td>0.431244</td>\n",
       "      <td>0.046695</td>\n",
       "      <td>-0.111499</td>\n",
       "      <td>-0.552314</td>\n",
       "      <td>-0.038479</td>\n",
       "      <td>-0.400785</td>\n",
       "      <td>-0.592553</td>\n",
       "      <td>-1.111017</td>\n",
       "      <td>-1.259051</td>\n",
       "      <td>...</td>\n",
       "      <td>-8.220399e-08</td>\n",
       "      <td>0.000001</td>\n",
       "      <td>-2.456299e-08</td>\n",
       "      <td>-2.331137e-08</td>\n",
       "      <td>-1.611217e-09</td>\n",
       "      <td>5.836175e-09</td>\n",
       "      <td>-3.550896e-08</td>\n",
       "      <td>2.913965e-10</td>\n",
       "      <td>1.337951e-08</td>\n",
       "      <td>0.157894</td>\n",
       "    </tr>\n",
       "  </tbody>\n",
       "</table>\n",
       "<p>5 rows × 72 columns</p>\n",
       "</div>"
      ],
      "text/plain": [
       "         V1        V2        V3        V4        V5        V6        V7  \\\n",
       "0 -0.703472  0.179373  0.733142  0.505957  0.423468  0.505817 -0.126209   \n",
       "1  0.971104  1.354772  1.505395  1.035205  1.576666  1.503695  1.155144   \n",
       "2  1.054833  1.018944  0.904754  0.505957  0.600883  0.868682  0.789043   \n",
       "3  2.561951  1.858515  1.848619  2.005493  1.221836  1.412979  1.063618   \n",
       "4  0.803647  0.431244  0.046695 -0.111499 -0.552314 -0.038479 -0.400785   \n",
       "\n",
       "         V8        V9       V10  ...           V63       V64           V65  \\\n",
       "0 -0.317853 -0.573011 -0.476334  ... -1.315377e+00 -0.637188  8.740067e-02   \n",
       "1  0.689381  0.503003  0.480320  ... -1.051700e+00  0.721899 -1.624465e-01   \n",
       "2  0.597815 -0.304007 -0.302397  ... -1.420848e+00  1.216113 -3.213405e-01   \n",
       "3  0.414681 -0.124672  0.219415  ... -1.658157e+00  0.763084 -1.251886e-01   \n",
       "4 -0.592553 -1.111017 -1.259051  ... -8.220399e-08  0.000001 -2.456299e-08   \n",
       "\n",
       "            V66           V67           V68           V69           V70  \\\n",
       "0 -3.393908e-01 -3.077883e-01 -1.122120e+00 -1.780258e+00  3.224584e+00   \n",
       "1  4.273963e-01 -1.785807e-01  1.756277e-01 -7.662740e-01  2.154919e+00   \n",
       "2  1.273702e+00 -3.723921e-01  3.666920e-01  3.573304e-01  1.376981e+00   \n",
       "3  1.378780e+00 -5.662034e-01  1.024251e+00  1.307370e+00  5.990427e-01   \n",
       "4 -2.331137e-08 -1.611217e-09  5.836175e-09 -3.550896e-08  2.913965e-10   \n",
       "\n",
       "            V71       V72  \n",
       "0 -1.582173e+00 -0.282442  \n",
       "1 -1.582173e+00 -0.282442  \n",
       "2 -1.149728e+00 -0.282442  \n",
       "3 -1.149728e+00  1.296692  \n",
       "4  1.337951e-08  0.157894  \n",
       "\n",
       "[5 rows x 72 columns]"
      ]
     },
     "execution_count": 8,
     "metadata": {},
     "output_type": "execute_result"
    }
   ],
   "source": [
    "#step-1 : STANDARISATION\n",
    "data = (data - np.mean(data, axis=0))/np.std(data)\n",
    "data.head()"
   ]
  },
  {
   "cell_type": "code",
   "execution_count": 7,
   "id": "59fc1fe6",
   "metadata": {},
   "outputs": [],
   "source": [
    "def PCA(X, n_components):\n",
    "    #step-1 : STANDARISATION\n",
    "    X = (X - np.mean(X, axis=0))/np.std(X)\n",
    "    \n",
    "    #step-2 : CALCULATE COVARIANCE MATRIX\n",
    "    cov_matrix = np.cov(X, rowvar=False, bias=False)\n",
    "    \n",
    "    #step-3 : COMPUTE THE EIGENVECTORS AND EIGENVALUES\n",
    "    eigenvalues, eigenvectors = np.linalg.eig(cov_matrix)\n",
    "    \n",
    "    #SORT THE EIGEN VECTORS\n",
    "    sorted_index = np.argsort(eigenvalues)[::-1]\n",
    "    sorted_eigenvalues = eigenvalues[sorted_index]\n",
    "    sorted_eigenvectors = eigenvectors[:, sorted_index]\n",
    "    \n",
    "    #SELECT A SUBSET (n_components = 2) FROM THE REARRANGED EIGENVALUE MATRIX\n",
    "    eigenvectors_subset = sorted_eigenvectors[:, 0:n_components]\n",
    "    \n",
    "    #TRANSFORM THE DATA\n",
    "    X_pca = np.dot(eigenvectors_subset.transpose(), X.transpose()).transpose()\n",
    "    \n",
    "    return X_pca"
   ]
  },
  {
   "cell_type": "code",
   "execution_count": 8,
   "id": "f302de07",
   "metadata": {},
   "outputs": [],
   "source": [
    "X_pca = PCA(data, 2)"
   ]
  },
  {
   "cell_type": "code",
   "execution_count": 9,
   "id": "44289713",
   "metadata": {},
   "outputs": [],
   "source": [
    "#step-2 : CALCULATE COVARIANCE MATRIX\n",
    "cov_matrix = np.cov(data, rowvar=False, bias=False)"
   ]
  },
  {
   "cell_type": "code",
   "execution_count": 10,
   "id": "e0d6c20f",
   "metadata": {},
   "outputs": [],
   "source": [
    "#step-3 : COMPUTE THE EIGENVECTORS AND EIGENVALUES\n",
    "eigenvalues, eigenvectors = np.linalg.eig(cov_matrix)"
   ]
  },
  {
   "cell_type": "code",
   "execution_count": 11,
   "id": "0e619408",
   "metadata": {},
   "outputs": [],
   "source": [
    "#SORT THE EIGEN VECTORS\n",
    "sorted_index = np.argsort(eigenvalues)[::-1]\n",
    "sorted_eigenvalues = eigenvalues[sorted_index]\n",
    "sorted_eigenvectors = eigenvectors[:, sorted_index]"
   ]
  },
  {
   "cell_type": "code",
   "execution_count": 34,
   "id": "eb5c2231",
   "metadata": {},
   "outputs": [
    {
     "name": "stdout",
     "output_type": "stream",
     "text": [
      "[ 41.834  62.17   69.619  74.111  77.909  80.634  82.887  84.503  86.019\n",
      "  87.341  88.612  89.726  90.762  91.718  92.507  93.278  93.944  94.472\n",
      "  94.942  95.357  95.759  96.122  96.455  96.751  97.018  97.27   97.494\n",
      "  97.698  97.892  98.067  98.229  98.384  98.535  98.665  98.791  98.905\n",
      "  99.007  99.105  99.202  99.296  99.386  99.466  99.54   99.608  99.67\n",
      "  99.731  99.785  99.815  99.839  99.862  99.882  99.901  99.915  99.927\n",
      "  99.937  99.947  99.954  99.961  99.966  99.97   99.975  99.978  99.982\n",
      "  99.986  99.989  99.991  99.993  99.995  99.997  99.998  99.999 100.   ]\n"
     ]
    }
   ],
   "source": [
    "#CALCULATE THE EXPLAINED VARIANCE \n",
    "explained_variance = (sorted_eigenvalues/np.sum(eigenvalues))*100\n",
    "#print(explained_variance[:k])\n",
    "\n",
    "total_explained_variance = []\n",
    "for i in range(1, len(explained_variance)+1):\n",
    "    total_explained_variance.append(np.sum(explained_variance[0:i]))\n",
    "print(np.round(total_explained_variance, 3))"
   ]
  },
  {
   "cell_type": "code",
   "execution_count": 23,
   "id": "949da4bf",
   "metadata": {
    "scrolled": true
   },
   "outputs": [],
   "source": [
    "#SELECT A SUBSET (K = 2) FROM THE REARRANGED EIGENVALUE MATRIX\n",
    "k = 5\n",
    "eigenvectors_subset = sorted_eigenvectors[:, 0:k]"
   ]
  },
  {
   "cell_type": "code",
   "execution_count": 24,
   "id": "48eb385b",
   "metadata": {},
   "outputs": [],
   "source": [
    "#TRANSFORM THE DATA\n",
    "data_reduced = np.dot(eigenvectors_subset.transpose(), data.transpose()).transpose()"
   ]
  },
  {
   "cell_type": "code",
   "execution_count": 25,
   "id": "1aa4334f",
   "metadata": {},
   "outputs": [
    {
     "data": {
      "text/plain": [
       "Text(0.5, 0, 'Magnitude of the eigenvalue')"
      ]
     },
     "execution_count": 25,
     "metadata": {},
     "output_type": "execute_result"
    },
    {
     "data": {
      "image/png": "[encoded data removed]",
      "text/plain": [
       "<Figure size 640x480 with 1 Axes>"
      ]
     },
     "metadata": {},
     "output_type": "display_data"
    }
   ],
   "source": [
    "plt.bar([\"PC\" + str(i+1) for i in range(len(sorted_eigenvalues[:k]))], explained_variance[:k])\n",
    "plt.title(\"Eigenvalues\")\n",
    "plt.xlabel(\"Magnitude of the eigenvalue\")"
   ]
  },
  {
   "cell_type": "code",
   "execution_count": 32,
   "id": "494fabe1",
   "metadata": {},
   "outputs": [
    {
     "name": "stdout",
     "output_type": "stream",
     "text": [
      "77.909%\n"
     ]
    }
   ],
   "source": [
    "#DETERMINE THE EXPLAINED VARIANCE\n",
    "total_explained_variance = sum(explained_variance[:k])\n",
    "print(str(np.round(total_explained_variance, 3)) + \"%\")"
   ]
  }
 ],
 "metadata": {
  "kernelspec": {
   "display_name": "Python 3 (ipykernel)",
   "language": "python",
   "name": "python3"
  },
  "language_info": {
   "codemirror_mode": {
    "name": "ipython",
    "version": 3
   },
   "file_extension": ".py",
   "mimetype": "text/x-python",
   "name": "python",
   "nbconvert_exporter": "python",
   "pygments_lexer": "ipython3",
   "version": "3.9.13"
  }
 },
 "nbformat": 4,
 "nbformat_minor": 5
}
